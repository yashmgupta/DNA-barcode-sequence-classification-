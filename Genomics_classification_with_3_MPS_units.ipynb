{
 "cells": [
  {
   "cell_type": "markdown",
   "metadata": {},
   "source": [
    "Research Article \n",
    "\n",
    "\"Classifying DNA barcode sequences of four Orthoptera orders of insects using Tensor Network\"\n",
    "\n",
    "Classification with 3 MPS units"
   ]
  },
  {
   "cell_type": "code",
   "execution_count": 1,
   "metadata": {
    "ExecuteTime": {
     "end_time": "2021-09-15T10:31:49.684061Z",
     "start_time": "2021-09-15T10:31:49.679690Z"
    }
   },
   "outputs": [],
   "source": [
    "# libraries\n",
    "\n",
    "import numpy as np\n",
    "import pandas as pd\n",
    "import matplotlib.pyplot as plt\n",
    "import os\n",
    "\n",
    "import tensorflow as tf\n",
    "from tensorflow.keras.models import Sequential\n",
    "from tensorflow.keras.layers import LSTM, Dense, Dropout, SpatialDropout1D, Embedding\n",
    "from tensorflow.keras.preprocessing.text import Tokenizer\n",
    "from tensorflow.keras.preprocessing.sequence import pad_sequences\n",
    "\n",
    "import tensornetwork as tn\n",
    "# Set the backend to tesorflow\n",
    "# (default is numpy)\n",
    "tn.set_default_backend(\"tensorflow\")\n",
    "\n",
    "# %matplotlib inline"
   ]
  },
  {
   "cell_type": "code",
   "execution_count": 2,
   "metadata": {
    "ExecuteTime": {
     "end_time": "2021-09-15T10:31:50.427090Z",
     "start_time": "2021-09-15T10:31:50.423261Z"
    }
   },
   "outputs": [],
   "source": [
    "from MPS_general import *"
   ]
  },
  {
   "cell_type": "code",
   "execution_count": 3,
   "metadata": {
    "ExecuteTime": {
     "end_time": "2021-09-15T10:31:50.770882Z",
     "start_time": "2021-09-15T10:31:50.714592Z"
    }
   },
   "outputs": [
    {
     "data": {
      "text/html": [
       "<div>\n",
       "<style scoped>\n",
       "    .dataframe tbody tr th:only-of-type {\n",
       "        vertical-align: middle;\n",
       "    }\n",
       "\n",
       "    .dataframe tbody tr th {\n",
       "        vertical-align: top;\n",
       "    }\n",
       "\n",
       "    .dataframe thead th {\n",
       "        text-align: right;\n",
       "    }\n",
       "</style>\n",
       "<table border=\"1\" class=\"dataframe\">\n",
       "  <thead>\n",
       "    <tr style=\"text-align: right;\">\n",
       "      <th></th>\n",
       "      <th>seqlen</th>\n",
       "      <th>seq</th>\n",
       "      <th>label</th>\n",
       "    </tr>\n",
       "  </thead>\n",
       "  <tbody>\n",
       "    <tr>\n",
       "      <th>0</th>\n",
       "      <td>552</td>\n",
       "      <td>CAAATCTATAATGTTATTATTACAGCACATGCATTTGTAATAATTT...</td>\n",
       "      <td>3</td>\n",
       "    </tr>\n",
       "    <tr>\n",
       "      <th>1</th>\n",
       "      <td>672</td>\n",
       "      <td>GATATTGGCACACTATACTTTATCTTTGGAACATGAGCCGGGATAG...</td>\n",
       "      <td>1</td>\n",
       "    </tr>\n",
       "    <tr>\n",
       "      <th>2</th>\n",
       "      <td>592</td>\n",
       "      <td>TTTTTGAGGAGCTACAGTAATTACAAATTTACTTTCAGCTGTACCT...</td>\n",
       "      <td>2</td>\n",
       "    </tr>\n",
       "    <tr>\n",
       "      <th>3</th>\n",
       "      <td>552</td>\n",
       "      <td>TTCATCTTCGGGTTTTGATCTGGAATAGTGGGTACCTCTTTAAGAA...</td>\n",
       "      <td>0</td>\n",
       "    </tr>\n",
       "    <tr>\n",
       "      <th>4</th>\n",
       "      <td>658</td>\n",
       "      <td>AACCTTATATTTCATTTTTGGAGCATGAGCAGGAATAGTGGGTACA...</td>\n",
       "      <td>2</td>\n",
       "    </tr>\n",
       "    <tr>\n",
       "      <th>...</th>\n",
       "      <td>...</td>\n",
       "      <td>...</td>\n",
       "      <td>...</td>\n",
       "    </tr>\n",
       "    <tr>\n",
       "      <th>3995</th>\n",
       "      <td>651</td>\n",
       "      <td>TACCTTATATTTTATATTTGGAGCATGAGCTGGAATAGTAGGAACT...</td>\n",
       "      <td>3</td>\n",
       "    </tr>\n",
       "    <tr>\n",
       "      <th>3996</th>\n",
       "      <td>666</td>\n",
       "      <td>TGTAATCTTAATACCTCATTTTTTGATCCAGCAGGAGGGGGAGATC...</td>\n",
       "      <td>3</td>\n",
       "    </tr>\n",
       "    <tr>\n",
       "      <th>3997</th>\n",
       "      <td>582</td>\n",
       "      <td>ACATTATACTTTATTTTCGGGGCATGAGCAGGAATAGTAGGTACTT...</td>\n",
       "      <td>2</td>\n",
       "    </tr>\n",
       "    <tr>\n",
       "      <th>3998</th>\n",
       "      <td>564</td>\n",
       "      <td>GGAATAGTAGGTACCTCTTTAAGTATATTAATCCGAATAGAACTAG...</td>\n",
       "      <td>0</td>\n",
       "    </tr>\n",
       "    <tr>\n",
       "      <th>3999</th>\n",
       "      <td>658</td>\n",
       "      <td>AACATTATACTTCATTTTTGGAGCTTGAGCCGGAATAGTTGGGACT...</td>\n",
       "      <td>2</td>\n",
       "    </tr>\n",
       "  </tbody>\n",
       "</table>\n",
       "<p>4000 rows × 3 columns</p>\n",
       "</div>"
      ],
      "text/plain": [
       "      seqlen                                                seq  label\n",
       "0        552  CAAATCTATAATGTTATTATTACAGCACATGCATTTGTAATAATTT...      3\n",
       "1        672  GATATTGGCACACTATACTTTATCTTTGGAACATGAGCCGGGATAG...      1\n",
       "2        592  TTTTTGAGGAGCTACAGTAATTACAAATTTACTTTCAGCTGTACCT...      2\n",
       "3        552  TTCATCTTCGGGTTTTGATCTGGAATAGTGGGTACCTCTTTAAGAA...      0\n",
       "4        658  AACCTTATATTTCATTTTTGGAGCATGAGCAGGAATAGTGGGTACA...      2\n",
       "...      ...                                                ...    ...\n",
       "3995     651  TACCTTATATTTTATATTTGGAGCATGAGCTGGAATAGTAGGAACT...      3\n",
       "3996     666  TGTAATCTTAATACCTCATTTTTTGATCCAGCAGGAGGGGGAGATC...      3\n",
       "3997     582  ACATTATACTTTATTTTCGGGGCATGAGCAGGAATAGTAGGTACTT...      2\n",
       "3998     564  GGAATAGTAGGTACCTCTTTAAGTATATTAATCCGAATAGAACTAG...      0\n",
       "3999     658  AACATTATACTTCATTTTTGGAGCTTGAGCCGGAATAGTTGGGACT...      2\n",
       "\n",
       "[4000 rows x 3 columns]"
      ]
     },
     "execution_count": 3,
     "metadata": {},
     "output_type": "execute_result"
    }
   ],
   "source": [
    "### importing data frame for training data \n",
    "\n",
    "data_df = pd.read_csv(\"Train_sequences.csv\", index_col=0)\n",
    "data_df"
   ]
  },
  {
   "cell_type": "code",
   "execution_count": 4,
   "metadata": {
    "ExecuteTime": {
     "end_time": "2021-09-15T10:31:50.977418Z",
     "start_time": "2021-09-15T10:31:50.971837Z"
    }
   },
   "outputs": [
    {
     "name": "stdout",
     "output_type": "stream",
     "text": [
      "4000 4000\n"
     ]
    }
   ],
   "source": [
    "# SEQ and  Label data for machine learning \n",
    "\n",
    "seq_data = data_df['seq'].values\n",
    "label_data =  data_df['label'].values\n",
    "print(len(seq_data), len(label_data))"
   ]
  },
  {
   "cell_type": "markdown",
   "metadata": {},
   "source": [
    "# Kmer"
   ]
  },
  {
   "cell_type": "code",
   "execution_count": 5,
   "metadata": {
    "ExecuteTime": {
     "end_time": "2021-09-15T10:31:53.439943Z",
     "start_time": "2021-09-15T10:31:52.303891Z"
    }
   },
   "outputs": [],
   "source": [
    "Ksize = 5\n",
    "\n",
    "def getKmers(sequence, size=3):\n",
    "    return [sequence[x:x+size].lower() for x in range(len(sequence) - size + 1)]\n",
    "\n",
    "data_df['kmer'] = data_df.apply(lambda x: getKmers(x['seq'],size = Ksize), axis=1)\n",
    "\n",
    "data_df['kmer_len'] = data_df.apply(lambda x: len(x['kmer']), axis=1)\n",
    "\n",
    "seq_kmer = data_df['kmer'].values\n",
    "label_data = data_df['label'].values\n",
    "unique =  set( [i for j in list(seq_kmer) for i in j])\n"
   ]
  },
  {
   "cell_type": "markdown",
   "metadata": {},
   "source": [
    "## Parameters"
   ]
  },
  {
   "cell_type": "code",
   "execution_count": 6,
   "metadata": {
    "ExecuteTime": {
     "end_time": "2021-09-15T10:31:53.567868Z",
     "start_time": "2021-09-15T10:31:53.564732Z"
    }
   },
   "outputs": [],
   "source": [
    "\n",
    "\n",
    "\n",
    "n_features =  1200 # number of words\n",
    "# n_features =  len(unique)+1\n",
    "#######################\n",
    "#########################\n",
    "\n",
    "\n",
    "pad_len = 699\n",
    "word_dim = 2  # embedding dimension for kmer\n",
    "units = 3  # number of units in TN\n",
    "in_dim = int(pad_len*word_dim/units)  #  physical dimension\n",
    "bond_dim = 2\n",
    "out_dim= 4  # number of classes \n",
    "\n",
    "epochs = 20\n",
    "batch_size = 20\n",
    "\n"
   ]
  },
  {
   "cell_type": "code",
   "execution_count": 7,
   "metadata": {
    "ExecuteTime": {
     "end_time": "2021-09-15T10:31:56.403696Z",
     "start_time": "2021-09-15T10:31:54.202265Z"
    }
   },
   "outputs": [],
   "source": [
    "# converting text to  number tokens using tokenizer\n",
    "\n",
    "\n",
    "tokenizer = Tokenizer(num_words=n_features)\n",
    "\n",
    "tokenizer.fit_on_texts(seq_kmer)\n",
    "word_index = tokenizer.word_index\n",
    "sequences = tokenizer.texts_to_sequences(seq_kmer)\n",
    "# sequences\n",
    "# word_index\n",
    "\n",
    "\n",
    "padded_sequences = pad_sequences(sequences, maxlen=pad_len, padding='post')\n",
    "\n",
    "\n",
    "X_train = np.asarray(padded_sequences).astype(np.float32)\n",
    "Y_train = np.asarray(label_data).astype(np.float)"
   ]
  },
  {
   "cell_type": "code",
   "execution_count": 8,
   "metadata": {
    "ExecuteTime": {
     "end_time": "2021-09-15T10:32:35.728752Z",
     "start_time": "2021-09-15T10:32:25.466634Z"
    }
   },
   "outputs": [
    {
     "name": "stdout",
     "output_type": "stream",
     "text": [
      "Model: \"sequential\"\n",
      "_________________________________________________________________\n",
      "Layer (type)                 Output Shape              Param #   \n",
      "=================================================================\n",
      "embedding (Embedding)        (None, 699, 2)            2400      \n",
      "_________________________________________________________________\n",
      "tn_layer (TNLayer)           (None, 4)                 9324      \n",
      "=================================================================\n",
      "Total params: 11,724\n",
      "Trainable params: 11,724\n",
      "Non-trainable params: 0\n",
      "_________________________________________________________________\n",
      "Epoch 1/20\n",
      "160/160 [==============================] - 1s 2ms/step - loss: 0.9335 - accuracy: 0.6278 - val_loss: 0.5574 - val_accuracy: 0.7962\n",
      "Epoch 2/20\n",
      "160/160 [==============================] - 0s 1ms/step - loss: 0.4208 - accuracy: 0.8572 - val_loss: 0.4201 - val_accuracy: 0.8375\n",
      "Epoch 3/20\n",
      "160/160 [==============================] - 0s 1ms/step - loss: 0.2866 - accuracy: 0.8894 - val_loss: 0.3705 - val_accuracy: 0.8675\n",
      "Epoch 4/20\n",
      "160/160 [==============================] - 0s 1ms/step - loss: 0.2129 - accuracy: 0.9197 - val_loss: 0.3568 - val_accuracy: 0.8775\n",
      "Epoch 5/20\n",
      "160/160 [==============================] - 0s 1ms/step - loss: 0.1598 - accuracy: 0.9425 - val_loss: 0.3200 - val_accuracy: 0.8913\n",
      "Epoch 6/20\n",
      "160/160 [==============================] - 0s 1ms/step - loss: 0.1265 - accuracy: 0.9547 - val_loss: 0.2949 - val_accuracy: 0.9000\n",
      "Epoch 7/20\n",
      "160/160 [==============================] - 0s 1ms/step - loss: 0.0984 - accuracy: 0.9666 - val_loss: 0.2925 - val_accuracy: 0.9000\n",
      "Epoch 8/20\n",
      "160/160 [==============================] - 0s 1ms/step - loss: 0.0904 - accuracy: 0.9694 - val_loss: 0.2959 - val_accuracy: 0.9087\n",
      "Epoch 9/20\n",
      "160/160 [==============================] - 0s 1ms/step - loss: 0.0796 - accuracy: 0.9756 - val_loss: 0.2880 - val_accuracy: 0.9150\n",
      "Epoch 10/20\n",
      "160/160 [==============================] - 0s 1ms/step - loss: 0.0679 - accuracy: 0.9759 - val_loss: 0.2835 - val_accuracy: 0.9162\n",
      "Epoch 11/20\n",
      "160/160 [==============================] - 0s 1ms/step - loss: 0.0634 - accuracy: 0.9781 - val_loss: 0.2804 - val_accuracy: 0.9175\n",
      "Epoch 12/20\n",
      "160/160 [==============================] - 0s 1ms/step - loss: 0.0553 - accuracy: 0.9819 - val_loss: 0.2925 - val_accuracy: 0.9162\n",
      "Epoch 13/20\n",
      "160/160 [==============================] - 0s 1ms/step - loss: 0.0527 - accuracy: 0.9828 - val_loss: 0.2846 - val_accuracy: 0.9200\n",
      "Epoch 14/20\n",
      "160/160 [==============================] - 0s 1ms/step - loss: 0.0520 - accuracy: 0.9831 - val_loss: 0.2563 - val_accuracy: 0.9237\n",
      "Epoch 15/20\n",
      "160/160 [==============================] - 0s 1ms/step - loss: 0.0422 - accuracy: 0.9859 - val_loss: 0.2653 - val_accuracy: 0.9275\n",
      "Epoch 16/20\n",
      "160/160 [==============================] - 0s 1ms/step - loss: 0.0501 - accuracy: 0.9825 - val_loss: 0.3011 - val_accuracy: 0.9175\n",
      "Epoch 17/20\n",
      "160/160 [==============================] - 0s 1ms/step - loss: 0.0583 - accuracy: 0.9853 - val_loss: 0.2461 - val_accuracy: 0.9275\n",
      "Epoch 18/20\n",
      "160/160 [==============================] - 0s 1ms/step - loss: 0.0345 - accuracy: 0.9875 - val_loss: 0.2657 - val_accuracy: 0.9262\n",
      "Epoch 19/20\n",
      "160/160 [==============================] - 0s 1ms/step - loss: 0.0329 - accuracy: 0.9878 - val_loss: 0.2710 - val_accuracy: 0.9237\n",
      "Epoch 20/20\n",
      "160/160 [==============================] - 0s 1ms/step - loss: 0.0315 - accuracy: 0.9881 - val_loss: 0.2711 - val_accuracy: 0.9275\n"
     ]
    }
   ],
   "source": [
    "\n",
    "## Tensor network model\n",
    "model = tf.keras.Sequential([\n",
    "    Embedding(n_features, word_dim,input_length=pad_len),  # Embedding layer\n",
    "    TNLayer(units=units,in_dim= in_dim, out_dim=out_dim,bond_dim=bond_dim), # TN layer\n",
    "    ])\n",
    "\n",
    "model.summary()\n",
    "\n",
    "model.compile(optimizer=tf.keras.optimizers.Adam(),\n",
    "              loss=tf.keras.losses.SparseCategoricalCrossentropy(from_logits=False),\n",
    "              metrics=['accuracy'])\n",
    "\n",
    "history = model.fit(X_train,Y_train,batch_size = batch_size,validation_split =0.2,  epochs= epochs)\n",
    "\n",
    "    "
   ]
  },
  {
   "cell_type": "code",
   "execution_count": 9,
   "metadata": {
    "ExecuteTime": {
     "end_time": "2021-09-15T10:32:39.744484Z",
     "start_time": "2021-09-15T10:32:39.558556Z"
    }
   },
   "outputs": [
    {
     "data": {
      "text/plain": [
       "(0.0, 22.0)"
      ]
     },
     "execution_count": 9,
     "metadata": {},
     "output_type": "execute_result"
    },
    {
     "data": {
      "image/png": "[encoded data removed]",
      "text/plain": [
       "<Figure size 864x360 with 1 Axes>"
      ]
     },
     "metadata": {
      "needs_background": "light"
     },
     "output_type": "display_data"
    }
   ],
   "source": [
    "# plot Loss\n",
    "plt.figure(figsize=(12,5))\n",
    "plt.plot(list(range(1,epochs+1)),history.history['loss'], '-o', label='Train Loss')\n",
    "plt.plot(list(range(1,epochs+1)),history.history['val_loss'],'-o', label='Validation Loss')\n",
    "plt.legend(prop= {'size':14})\n",
    "plt.xticks(list(range(0,epochs+1,2)),size=14)\n",
    "plt.yticks(size=14)\n",
    "plt.ylim(0,1)\n",
    "plt.xlim(0,22)"
   ]
  },
  {
   "cell_type": "code",
   "execution_count": 10,
   "metadata": {
    "ExecuteTime": {
     "end_time": "2021-09-15T10:32:41.553053Z",
     "start_time": "2021-09-15T10:32:41.379658Z"
    }
   },
   "outputs": [
    {
     "data": {
      "text/plain": [
       "(0.5, 1.0)"
      ]
     },
     "execution_count": 10,
     "metadata": {},
     "output_type": "execute_result"
    },
    {
     "data": {
      "image/png": "[encoded data removed]",
      "text/plain": [
       "<Figure size 720x288 with 1 Axes>"
      ]
     },
     "metadata": {
      "needs_background": "light"
     },
     "output_type": "display_data"
    }
   ],
   "source": [
    "# plot accuracy \n",
    "plt.figure(figsize=(10,4))\n",
    "plt.plot(list(range(1,epochs+1)),history.history['accuracy'], '-o', label='Train Acc')\n",
    "plt.plot(list(range(1,epochs+1)),history.history['val_accuracy'],'-o', label='Validation Acc')\n",
    "plt.legend(prop= {'size':14})\n",
    "plt.xticks(list(range(0,epochs+1,2)),size=14)\n",
    "plt.yticks(size=14)\n",
    "plt.ylim(0.5,1)"
   ]
  },
  {
   "cell_type": "markdown",
   "metadata": {
    "ExecuteTime": {
     "end_time": "2021-09-13T11:18:20.742580Z",
     "start_time": "2021-09-13T11:18:20.737756Z"
    }
   },
   "source": [
    "## Testing"
   ]
  },
  {
   "cell_type": "code",
   "execution_count": 11,
   "metadata": {
    "ExecuteTime": {
     "start_time": "2021-09-15T10:32:44.562Z"
    }
   },
   "outputs": [
    {
     "name": "stderr",
     "output_type": "stream",
     "text": [
      "C:\\Users\\User\\AppData\\Local\\Temp/ipykernel_3320/3116253623.py:30: FutureWarning: this method is deprecated in favour of `Styler.format(precision=..)`\n",
      "  df_confusion.style.background_gradient(cmap='coolwarm').set_precision(2)\n"
     ]
    },
    {
     "data": {
      "text/html": [
       "<style type=\"text/css\">\n",
       "#T_abf6b_row0_col0, #T_abf6b_row1_col1, #T_abf6b_row2_col2, #T_abf6b_row3_col3 {\n",
       "  background-color: #b40426;\n",
       "  color: #f1f1f1;\n",
       "}\n",
       "#T_abf6b_row0_col1, #T_abf6b_row0_col3, #T_abf6b_row1_col0, #T_abf6b_row1_col2 {\n",
       "  background-color: #3b4cc0;\n",
       "  color: #f1f1f1;\n",
       "}\n",
       "#T_abf6b_row0_col2 {\n",
       "  background-color: #4358cb;\n",
       "  color: #f1f1f1;\n",
       "}\n",
       "#T_abf6b_row1_col3 {\n",
       "  background-color: #4e68d8;\n",
       "  color: #f1f1f1;\n",
       "}\n",
       "#T_abf6b_row2_col0, #T_abf6b_row2_col3 {\n",
       "  background-color: #4257c9;\n",
       "  color: #f1f1f1;\n",
       "}\n",
       "#T_abf6b_row2_col1 {\n",
       "  background-color: #3d50c3;\n",
       "  color: #f1f1f1;\n",
       "}\n",
       "#T_abf6b_row3_col0, #T_abf6b_row3_col1 {\n",
       "  background-color: #3c4ec2;\n",
       "  color: #f1f1f1;\n",
       "}\n",
       "#T_abf6b_row3_col2 {\n",
       "  background-color: #3f53c6;\n",
       "  color: #f1f1f1;\n",
       "}\n",
       "</style>\n",
       "<table id=\"T_abf6b_\">\n",
       "  <thead>\n",
       "    <tr>\n",
       "      <th class=\"blank level0\" >&nbsp;</th>\n",
       "      <th class=\"col_heading level0 col0\" >Cricket</th>\n",
       "      <th class=\"col_heading level0 col1\" >Cave cricket</th>\n",
       "      <th class=\"col_heading level0 col2\" >Katydidas</th>\n",
       "      <th class=\"col_heading level0 col3\" >Grasshopper</th>\n",
       "    </tr>\n",
       "  </thead>\n",
       "  <tbody>\n",
       "    <tr>\n",
       "      <th id=\"T_abf6b_level0_row0\" class=\"row_heading level0 row0\" >Cricket</th>\n",
       "      <td id=\"T_abf6b_row0_col0\" class=\"data row0 col0\" >0.95</td>\n",
       "      <td id=\"T_abf6b_row0_col1\" class=\"data row0 col1\" >0.01</td>\n",
       "      <td id=\"T_abf6b_row0_col2\" class=\"data row0 col2\" >0.04</td>\n",
       "      <td id=\"T_abf6b_row0_col3\" class=\"data row0 col3\" >0.01</td>\n",
       "    </tr>\n",
       "    <tr>\n",
       "      <th id=\"T_abf6b_level0_row1\" class=\"row_heading level0 row1\" >Cave cricket</th>\n",
       "      <td id=\"T_abf6b_row1_col0\" class=\"data row1 col0\" >0.01</td>\n",
       "      <td id=\"T_abf6b_row1_col1\" class=\"data row1 col1\" >0.92</td>\n",
       "      <td id=\"T_abf6b_row1_col2\" class=\"data row1 col2\" >0.01</td>\n",
       "      <td id=\"T_abf6b_row1_col3\" class=\"data row1 col3\" >0.07</td>\n",
       "    </tr>\n",
       "    <tr>\n",
       "      <th id=\"T_abf6b_level0_row2\" class=\"row_heading level0 row2\" >Katydidas</th>\n",
       "      <td id=\"T_abf6b_row2_col0\" class=\"data row2 col0\" >0.03</td>\n",
       "      <td id=\"T_abf6b_row2_col1\" class=\"data row2 col1\" >0.01</td>\n",
       "      <td id=\"T_abf6b_row2_col2\" class=\"data row2 col2\" >0.92</td>\n",
       "      <td id=\"T_abf6b_row2_col3\" class=\"data row2 col3\" >0.04</td>\n",
       "    </tr>\n",
       "    <tr>\n",
       "      <th id=\"T_abf6b_level0_row3\" class=\"row_heading level0 row3\" >Grasshopper</th>\n",
       "      <td id=\"T_abf6b_row3_col0\" class=\"data row3 col0\" >0.01</td>\n",
       "      <td id=\"T_abf6b_row3_col1\" class=\"data row3 col1\" >0.01</td>\n",
       "      <td id=\"T_abf6b_row3_col2\" class=\"data row3 col2\" >0.03</td>\n",
       "      <td id=\"T_abf6b_row3_col3\" class=\"data row3 col3\" >0.95</td>\n",
       "    </tr>\n",
       "  </tbody>\n",
       "</table>\n"
      ],
      "text/plain": [
       "<pandas.io.formats.style.Styler at 0x1d2c9502c40>"
      ]
     },
     "execution_count": 11,
     "metadata": {},
     "output_type": "execute_result"
    }
   ],
   "source": [
    "### importing test data \n",
    "\n",
    "data_test = pd.read_csv(\"Test_sequences.csv\", index_col=0)\n",
    "\n",
    "# testing data\n",
    "test_seq = data_test['seq'].values\n",
    "test_label =  data_test['label'].values\n",
    "\n",
    "# \n",
    "kmer_data_test = [getKmers(i,size = Ksize) for i in test_seq]\n",
    "# kmer_data\n",
    "\n",
    "test_seq =  tokenizer.texts_to_sequences(kmer_data_test)\n",
    "test_seq = pad_sequences(test_seq, maxlen=pad_len, padding= 'post')\n",
    "\n",
    "\n",
    "## Predictions \n",
    "\n",
    "all_predictions = [] \n",
    "for i in  test_seq:\n",
    "    predict = np.argmax(model.predict((i.reshape(1,-1))))\n",
    "    all_predictions.append(predict)\n",
    "\n",
    "# confusion matrix \n",
    "import sklearn.metrics\n",
    "\n",
    "cm = sklearn.metrics.confusion_matrix(test_label.astype('int'), np.array(all_predictions), normalize='true')\n",
    "df_confusion = pd.DataFrame(cm, columns= ['Cricket', 'Cave cricket', 'Katydidas', 'Grasshopper'], index= ['Cricket', 'Cave cricket', 'Katydidas', 'Grasshopper'])\n",
    "\n",
    "df_confusion.style.background_gradient(cmap='coolwarm').set_precision(2)"
   ]
  },
  {
   "cell_type": "code",
   "execution_count": null,
   "metadata": {},
   "outputs": [],
   "source": []
  }
 ],
 "metadata": {
  "kernelspec": {
   "display_name": "Python 3 (ipykernel)",
   "language": "python",
   "name": "python3"
  },
  "language_info": {
   "codemirror_mode": {
    "name": "ipython",
    "version": 3
   },
   "file_extension": ".py",
   "mimetype": "text/x-python",
   "name": "python",
   "nbconvert_exporter": "python",
   "pygments_lexer": "ipython3",
   "version": "3.9.7"
  },
  "latex_envs": {
   "LaTeX_envs_menu_present": true,
   "autoclose": true,
   "autocomplete": true,
   "bibliofile": "biblio.bib",
   "cite_by": "apalike",
   "current_citInitial": 1,
   "eqLabelWithNumbers": true,
   "eqNumInitial": 1,
   "hotkeys": {
    "equation": "Ctrl-E",
    "itemize": "Ctrl-I"
   },
   "labels_anchors": false,
   "latex_user_defs": false,
   "report_style_numbering": false,
   "user_envs_cfg": false
  },
  "varInspector": {
   "cols": {
    "lenName": 16,
    "lenType": 16,
    "lenVar": 40
   },
   "kernels_config": {
    "python": {
     "delete_cmd_postfix": "",
     "delete_cmd_prefix": "del ",
     "library": "var_list.py",
     "varRefreshCmd": "print(var_dic_list())"
    },
    "r": {
     "delete_cmd_postfix": ") ",
     "delete_cmd_prefix": "rm(",
     "library": "var_list.r",
     "varRefreshCmd": "cat(var_dic_list()) "
    }
   },
   "types_to_exclude": [
    "module",
    "function",
    "builtin_function_or_method",
    "instance",
    "_Feature"
   ],
   "window_display": false
  }
 },
 "nbformat": 4,
 "nbformat_minor": 4
}
